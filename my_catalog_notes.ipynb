{
 "cells": [
  {
   "cell_type": "markdown",
   "metadata": {},
   "source": [
    "# UDG candidates in the HSC catalog\n",
    "\n",
    "The catalog likes to shred UDG-like objects into a parent with many ($\\sim5-20$) children. <br>\n",
    "Currently, I think the HSM _parent_ shapes are the best (still not great, though). <br> \n",
    "\n",
    "## HSM shapes\n",
    "The image below shows a UDG candidate with ellispes drawn using the HSM shape model. <br>\n",
    "Green ellipses are parents, red are children. \n",
    "\n",
    "![](../figures/hsc_cat_udgs/udg_2_hsm.jpg)\n",
    "\n",
    "## cmodel shapes\n",
    "Here's the same object with ellipses drawn using the cmodel shapes:\n",
    "\n",
    "![](../figures/hsc_cat_udgs/udg_2_cmodel.jpg)\n",
    "\n",
    "## Nucleated UDG candidate:\n",
    "\n",
    "![](../figures/hsc_cat_udgs/udg_3_hsm_nucleated.jpg)"
   ]
  }
 ],
 "metadata": {
  "kernelspec": {
   "display_name": "Python 2",
   "language": "python",
   "name": "python2"
  },
  "language_info": {
   "codemirror_mode": {
    "name": "ipython",
    "version": 2
   },
   "file_extension": ".py",
   "mimetype": "text/x-python",
   "name": "python",
   "nbconvert_exporter": "python",
   "pygments_lexer": "ipython2",
   "version": "2.7.11"
  }
 },
 "nbformat": 4,
 "nbformat_minor": 0
}
